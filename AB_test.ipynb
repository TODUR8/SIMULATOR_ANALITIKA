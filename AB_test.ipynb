{
 "cells": [
  {
   "cell_type": "markdown",
   "id": "60e9aa3c",
   "metadata": {},
   "source": [
    "# Описание Задачи.\n",
    "Необходимо проверить гипотезу что новый алгоритм рекомендаций во 2-й группе привел к увеличению CTR. Проведем несколько тестов:\n",
    "* графический анализ\n",
    "* сравним Т-тестом CTR группы А и группы В\n",
    "* сравним Т-тестом сглаженный CTR группы А и группы В\n",
    "* сравним группы А и В с помощью Бутстрэп\n",
    "* Сделаем тест Мана-уитни поверх бакетов\n",
    "\n",
    "\n",
    "Дадим итоговую рекомендацию новый алгоритм."
   ]
  },
  {
   "cell_type": "code",
   "execution_count": 26,
   "id": "2b36b88b",
   "metadata": {},
   "outputs": [],
   "source": [
    "import pandahouse\n",
    "import pandas as pd\n",
    "import seaborn as sns\n",
    "import matplotlib.pyplot as plt\n",
    "import numpy as np\n",
    "import hashlib # Делать хеши\n",
    "import swifter # Ускорялка метода apply\n",
    "from scipy import stats # Статистика\n",
    "from scipy.stats import norm, ttest_ind\n",
    "%matplotlib inline\n",
    "\n",
    "from scipy.stats import mannwhitneyu"
   ]
  },
  {
   "cell_type": "code",
   "execution_count": 27,
   "id": "14c9bef4",
   "metadata": {},
   "outputs": [],
   "source": [
    "# создаёт словарь с именем connection, который содержит информацию для подключения к базе данных ClickHouse.\n",
    "connection = {\n",
    "    'host': 'https://clickhouse.lab.karpov.courses',\n",
    "    'password': 'dpo_python_2020',\n",
    "    'user': 'student',\n",
    "    'database': 'simulator'\n",
    "}"
   ]
  },
  {
   "cell_type": "code",
   "execution_count": 28,
   "id": "d281ede5",
   "metadata": {},
   "outputs": [],
   "source": [
    "# скачиваем данные из clickhouse группы 2 и 1. С '2021-11-15' по '2021-11-21'\n",
    "q = \"\"\"\n",
    "SELECT exp_group,\n",
    "    user_id,\n",
    "    sum(action = 'like') as likes,\n",
    "    sum(action = 'view') as views,\n",
    "    likes/views as ctr\n",
    "FROM {db}.feed_actions\n",
    "WHERE toDate(time) between '2021-11-14' and '2021-11-20' and exp_group in (2,1)\n",
    "GROUP BY exp_group, user_id\n",
    "\"\"\"\n",
    "df = pandahouse.read_clickhouse(q, connection=connection)\n"
   ]
  },
  {
   "cell_type": "code",
   "execution_count": 29,
   "id": "9a4e16b9",
   "metadata": {},
   "outputs": [
    {
     "data": {
      "text/html": [
       "<div>\n",
       "<style scoped>\n",
       "    .dataframe tbody tr th:only-of-type {\n",
       "        vertical-align: middle;\n",
       "    }\n",
       "\n",
       "    .dataframe tbody tr th {\n",
       "        vertical-align: top;\n",
       "    }\n",
       "\n",
       "    .dataframe thead th {\n",
       "        text-align: right;\n",
       "    }\n",
       "</style>\n",
       "<table border=\"1\" class=\"dataframe\">\n",
       "  <thead>\n",
       "    <tr style=\"text-align: right;\">\n",
       "      <th></th>\n",
       "      <th>exp_group</th>\n",
       "      <th>user_id</th>\n",
       "      <th>likes</th>\n",
       "      <th>views</th>\n",
       "      <th>ctr</th>\n",
       "    </tr>\n",
       "  </thead>\n",
       "  <tbody>\n",
       "    <tr>\n",
       "      <th>0</th>\n",
       "      <td>1</td>\n",
       "      <td>109963</td>\n",
       "      <td>3</td>\n",
       "      <td>15</td>\n",
       "      <td>0.200000</td>\n",
       "    </tr>\n",
       "    <tr>\n",
       "      <th>1</th>\n",
       "      <td>1</td>\n",
       "      <td>26117</td>\n",
       "      <td>32</td>\n",
       "      <td>141</td>\n",
       "      <td>0.226950</td>\n",
       "    </tr>\n",
       "    <tr>\n",
       "      <th>2</th>\n",
       "      <td>1</td>\n",
       "      <td>138232</td>\n",
       "      <td>18</td>\n",
       "      <td>73</td>\n",
       "      <td>0.246575</td>\n",
       "    </tr>\n",
       "  </tbody>\n",
       "</table>\n",
       "</div>"
      ],
      "text/plain": [
       "   exp_group  user_id  likes  views       ctr\n",
       "0          1   109963      3     15  0.200000\n",
       "1          1    26117     32    141  0.226950\n",
       "2          1   138232     18     73  0.246575"
      ]
     },
     "execution_count": 29,
     "metadata": {},
     "output_type": "execute_result"
    }
   ],
   "source": [
    "# посмотрим как выглядят наши данные\n",
    "df.head(3)"
   ]
  },
  {
   "cell_type": "code",
   "execution_count": 30,
   "id": "6be735f8",
   "metadata": {},
   "outputs": [
    {
     "data": {
      "text/html": [
       "<div>\n",
       "<style scoped>\n",
       "    .dataframe tbody tr th:only-of-type {\n",
       "        vertical-align: middle;\n",
       "    }\n",
       "\n",
       "    .dataframe tbody tr th {\n",
       "        vertical-align: top;\n",
       "    }\n",
       "\n",
       "    .dataframe thead th {\n",
       "        text-align: right;\n",
       "    }\n",
       "</style>\n",
       "<table border=\"1\" class=\"dataframe\">\n",
       "  <thead>\n",
       "    <tr style=\"text-align: right;\">\n",
       "      <th></th>\n",
       "      <th>exp_group</th>\n",
       "      <th>user_id</th>\n",
       "    </tr>\n",
       "  </thead>\n",
       "  <tbody>\n",
       "    <tr>\n",
       "      <th>0</th>\n",
       "      <td>1</td>\n",
       "      <td>9990</td>\n",
       "    </tr>\n",
       "    <tr>\n",
       "      <th>1</th>\n",
       "      <td>2</td>\n",
       "      <td>9816</td>\n",
       "    </tr>\n",
       "  </tbody>\n",
       "</table>\n",
       "</div>"
      ],
      "text/plain": [
       "   exp_group  user_id\n",
       "0          1     9990\n",
       "1          2     9816"
      ]
     },
     "execution_count": 30,
     "metadata": {},
     "output_type": "execute_result"
    }
   ],
   "source": [
    "# посмотрим размер обоих групп\n",
    "df.groupby('exp_group',as_index =False).agg({'user_id':'count'}) "
   ]
  },
  {
   "cell_type": "code",
   "execution_count": 31,
   "id": "c2dc882f",
   "metadata": {},
   "outputs": [],
   "source": [
    "# разделим по группам\n",
    "group_A = df[df.exp_group == 2].copy()\n",
    "group_B = df[df.exp_group == 1].copy()"
   ]
  },
  {
   "cell_type": "markdown",
   "id": "f01c86a7",
   "metadata": {},
   "source": [
    "# Т-тест\n",
    "сравним Т-тестом CTR группы А и группы В"
   ]
  },
  {
   "cell_type": "code",
   "execution_count": 32,
   "id": "ceb3670b",
   "metadata": {},
   "outputs": [
    {
     "data": {
      "text/plain": [
       "TtestResult(statistic=-0.23188350876573682, pvalue=0.816631524919649, df=15652.331576916213)"
      ]
     },
     "execution_count": 32,
     "metadata": {},
     "output_type": "execute_result"
    }
   ],
   "source": [
    "# сравним Т-тестом CTR группы А и группы В\n",
    "stats.ttest_ind(group_A.ctr, group_B.ctr, equal_var = False)"
   ]
  },
  {
   "cell_type": "markdown",
   "id": "b45e1670",
   "metadata": {},
   "source": [
    "Т-тест утверждает что отличий нет(потому что pvalue большое, сильно больше чем 0,5). То есть у нас недостаточно оснований сказать, что отличия есть. "
   ]
  },
  {
   "cell_type": "markdown",
   "id": "c16f3551",
   "metadata": {},
   "source": [
    "# сглаженный CTR\n",
    "Сравним Т-тестом сглаженный CTR группы А и группы В"
   ]
  },
  {
   "cell_type": "code",
   "execution_count": 33,
   "id": "54e02ee8",
   "metadata": {},
   "outputs": [],
   "source": [
    "# функция для сглаженного CTR\n",
    "def get_smothed_ctr(user_likes, user_views, global_ctr, alpha):\n",
    "    smothed_ctr = (user_likes + alpha * global_ctr) / (user_views + alpha)\n",
    "    return smothed_ctr\n",
    "\n",
    "# считаем общегрупповой CTR для группы А и В\n",
    "global_ctr_A = df[df.exp_group == 2].likes.sum() / df[df.exp_group == 2].views.sum()\n",
    "global_ctr_B = df[df.exp_group == 1].likes.sum() / df[df.exp_group == 1].views.sum()"
   ]
  },
  {
   "cell_type": "code",
   "execution_count": 34,
   "id": "bff17f33",
   "metadata": {},
   "outputs": [],
   "source": [
    "# построим метрику сглаженного CTR для группы А и В\n",
    "# (просто применим функцию, гиперпараметр присвоили 5)\n",
    "group_A['smothed_ctr'] = df.apply(\n",
    "    lambda x: get_smothed_ctr(x['likes'], x['views'], global_ctr_A, 5), axis=1)\n",
    "\n",
    "group_B['smothed_ctr'] = df.apply(\n",
    "    lambda x: get_smothed_ctr(x['likes'], x['views'], global_ctr_B, 5), axis=1)\n"
   ]
  },
  {
   "cell_type": "code",
   "execution_count": 35,
   "id": "bc9de923",
   "metadata": {},
   "outputs": [
    {
     "data": {
      "text/html": [
       "<div>\n",
       "<style scoped>\n",
       "    .dataframe tbody tr th:only-of-type {\n",
       "        vertical-align: middle;\n",
       "    }\n",
       "\n",
       "    .dataframe tbody tr th {\n",
       "        vertical-align: top;\n",
       "    }\n",
       "\n",
       "    .dataframe thead th {\n",
       "        text-align: right;\n",
       "    }\n",
       "</style>\n",
       "<table border=\"1\" class=\"dataframe\">\n",
       "  <thead>\n",
       "    <tr style=\"text-align: right;\">\n",
       "      <th></th>\n",
       "      <th>exp_group</th>\n",
       "      <th>user_id</th>\n",
       "      <th>likes</th>\n",
       "      <th>views</th>\n",
       "      <th>ctr</th>\n",
       "      <th>smothed_ctr</th>\n",
       "    </tr>\n",
       "  </thead>\n",
       "  <tbody>\n",
       "    <tr>\n",
       "      <th>5</th>\n",
       "      <td>2</td>\n",
       "      <td>131473</td>\n",
       "      <td>14</td>\n",
       "      <td>175</td>\n",
       "      <td>0.080000</td>\n",
       "      <td>0.083297</td>\n",
       "    </tr>\n",
       "    <tr>\n",
       "      <th>6</th>\n",
       "      <td>2</td>\n",
       "      <td>23985</td>\n",
       "      <td>13</td>\n",
       "      <td>119</td>\n",
       "      <td>0.109244</td>\n",
       "      <td>0.112851</td>\n",
       "    </tr>\n",
       "  </tbody>\n",
       "</table>\n",
       "</div>"
      ],
      "text/plain": [
       "   exp_group  user_id  likes  views       ctr  smothed_ctr\n",
       "5          2   131473     14    175  0.080000     0.083297\n",
       "6          2    23985     13    119  0.109244     0.112851"
      ]
     },
     "metadata": {},
     "output_type": "display_data"
    },
    {
     "data": {
      "text/html": [
       "<div>\n",
       "<style scoped>\n",
       "    .dataframe tbody tr th:only-of-type {\n",
       "        vertical-align: middle;\n",
       "    }\n",
       "\n",
       "    .dataframe tbody tr th {\n",
       "        vertical-align: top;\n",
       "    }\n",
       "\n",
       "    .dataframe thead th {\n",
       "        text-align: right;\n",
       "    }\n",
       "</style>\n",
       "<table border=\"1\" class=\"dataframe\">\n",
       "  <thead>\n",
       "    <tr style=\"text-align: right;\">\n",
       "      <th></th>\n",
       "      <th>exp_group</th>\n",
       "      <th>user_id</th>\n",
       "      <th>likes</th>\n",
       "      <th>views</th>\n",
       "      <th>ctr</th>\n",
       "      <th>smothed_ctr</th>\n",
       "    </tr>\n",
       "  </thead>\n",
       "  <tbody>\n",
       "    <tr>\n",
       "      <th>0</th>\n",
       "      <td>1</td>\n",
       "      <td>109963</td>\n",
       "      <td>3</td>\n",
       "      <td>15</td>\n",
       "      <td>0.20000</td>\n",
       "      <td>0.202140</td>\n",
       "    </tr>\n",
       "    <tr>\n",
       "      <th>1</th>\n",
       "      <td>1</td>\n",
       "      <td>26117</td>\n",
       "      <td>32</td>\n",
       "      <td>141</td>\n",
       "      <td>0.22695</td>\n",
       "      <td>0.226321</td>\n",
       "    </tr>\n",
       "  </tbody>\n",
       "</table>\n",
       "</div>"
      ],
      "text/plain": [
       "   exp_group  user_id  likes  views      ctr  smothed_ctr\n",
       "0          1   109963      3     15  0.20000     0.202140\n",
       "1          1    26117     32    141  0.22695     0.226321"
      ]
     },
     "metadata": {},
     "output_type": "display_data"
    }
   ],
   "source": [
    "display(group_A.head(2))\n",
    "display(group_B.head(2))"
   ]
  },
  {
   "cell_type": "code",
   "execution_count": 36,
   "id": "d2c34221",
   "metadata": {},
   "outputs": [
    {
     "data": {
      "text/plain": [
       "TtestResult(statistic=-1.8450532173987262, pvalue=0.06504892715455249, df=15446.871882444922)"
      ]
     },
     "execution_count": 36,
     "metadata": {},
     "output_type": "execute_result"
    }
   ],
   "source": [
    "# сравним Т-тестом сглаженные CTR группы А и группы В\n",
    "stats.ttest_ind(group_A.smothed_ctr, group_B.smothed_ctr, equal_var = False)"
   ]
  },
  {
   "cell_type": "markdown",
   "id": "a1bc44e5",
   "metadata": {},
   "source": [
    "Получили pvalue=0.06  чуть больше 0,05 это означает что не отвергаем нулевую гипотезу, но ситуация совсем не одназназная. "
   ]
  },
  {
   "cell_type": "markdown",
   "id": "110b14c5",
   "metadata": {},
   "source": [
    "# Гистограма распределений\n",
    "**Посмотрим как выглядят наши расспределения CTR**"
   ]
  },
  {
   "cell_type": "code",
   "execution_count": 37,
   "id": "0eb0574b",
   "metadata": {},
   "outputs": [
    {
     "data": {
      "image/png": "[encoded data removed]",
      "text/plain": [
       "<Figure size 800x500 with 1 Axes>"
      ]
     },
     "metadata": {},
     "output_type": "display_data"
    }
   ],
   "source": [
    "sns.set(rc={'figure.figsize':(8, 5)})\n",
    "groups = sns.histplot(data=df,\n",
    "                      x='ctr',\n",
    "                      hue='exp_group',\n",
    "                      palette = ['r', 'b'],\n",
    "                      alpha=0.5,\n",
    "                      kde=False)"
   ]
  },
  {
   "cell_type": "markdown",
   "id": "dbbfb27e",
   "metadata": {},
   "source": [
    "Распределения полностью поменяли форму! В контрольной группе распределение осталось одногорбое похожее на нормальное, а в эксперементальной группе горба стало 2! \n",
    "\n",
    "\n",
    "Почему наш стандартный Т-тест не заметил различия? Потому, что средние значения почти не отличаются"
   ]
  },
  {
   "cell_type": "code",
   "execution_count": 38,
   "id": "4637594a",
   "metadata": {},
   "outputs": [
    {
     "data": {
      "text/plain": [
       "(0.19870276252473978, 0.20856005935536234)"
      ]
     },
     "execution_count": 38,
     "metadata": {},
     "output_type": "execute_result"
    }
   ],
   "source": [
    "# выведем средний CTR в группе А и В\n",
    "global_ctr_A, global_ctr_B"
   ]
  },
  {
   "cell_type": "markdown",
   "id": "b0feec31",
   "metadata": {},
   "source": [
    "# Бутстрэп. \n",
    "\n",
    "Сравним группы А и В с помощью Бутстрэп"
   ]
  },
  {
   "cell_type": "code",
   "execution_count": 39,
   "id": "ef02926a",
   "metadata": {},
   "outputs": [],
   "source": [
    "#на вход функция принимает лайки и просмотры по группам, а также указываем что бутстреп будет проводиться 2000 раз\n",
    "def bootstrap(likes1, views1, likes2, views2, n_bootstrap=2000):\n",
    "    # 2000 раз генерируем веса из расспределения пуассона для группы А и для группы В\n",
    "    poisson_bootstraps1 = stats.poisson(1).rvs((n_bootstrap, len(likes1))).astype(np.int64)\n",
    "    poisson_bootstraps2 = stats.poisson(1).rvs((n_bootstrap, len(likes2))).astype(np.int64)\n",
    "\n",
    "    # считаем глобальный CTR для группы А и В(поскольку мы это делаем 2000 раз мы получаем расспределение \n",
    "    # из 2000 глобальных CTR для группы А и 2000 глобальных CTR для группы В)\n",
    "    globalCTR1 = (poisson_bootstraps1*likes1).sum(axis=1)/(poisson_bootstraps1*views1).sum(axis=1)\n",
    "    globalCTR2 = (poisson_bootstraps2*likes2).sum(axis=1)/(poisson_bootstraps2*views2).sum(axis=1)\n",
    "    \n",
    "    return globalCTR1, globalCTR2"
   ]
  },
  {
   "cell_type": "code",
   "execution_count": 40,
   "id": "83bcd1d3",
   "metadata": {},
   "outputs": [],
   "source": [
    "# достанем из clickhouse данные по пользователям группы 1 и группы 2\n",
    "q = \"\"\"\n",
    "SELECT exp_group,\n",
    "    user_id,\n",
    "    sum(action = 'like') as likes,\n",
    "    sum(action = 'view') as views,\n",
    "    likes/views as ctr\n",
    "FROM {db}.feed_actions\n",
    "WHERE toDate(time) between '2021-11-15' and '2021-11-21' and exp_group in (1,2)\n",
    "GROUP BY exp_group, user_id\n",
    "\"\"\"\n",
    "df = pandahouse.read_clickhouse(q, connection=connection)"
   ]
  },
  {
   "cell_type": "code",
   "execution_count": 41,
   "id": "329a65c3",
   "metadata": {},
   "outputs": [
    {
     "data": {
      "text/html": [
       "<div>\n",
       "<style scoped>\n",
       "    .dataframe tbody tr th:only-of-type {\n",
       "        vertical-align: middle;\n",
       "    }\n",
       "\n",
       "    .dataframe tbody tr th {\n",
       "        vertical-align: top;\n",
       "    }\n",
       "\n",
       "    .dataframe thead th {\n",
       "        text-align: right;\n",
       "    }\n",
       "</style>\n",
       "<table border=\"1\" class=\"dataframe\">\n",
       "  <thead>\n",
       "    <tr style=\"text-align: right;\">\n",
       "      <th></th>\n",
       "      <th>exp_group</th>\n",
       "      <th>user_id</th>\n",
       "      <th>likes</th>\n",
       "      <th>views</th>\n",
       "      <th>ctr</th>\n",
       "    </tr>\n",
       "  </thead>\n",
       "  <tbody>\n",
       "    <tr>\n",
       "      <th>0</th>\n",
       "      <td>1</td>\n",
       "      <td>109963</td>\n",
       "      <td>3</td>\n",
       "      <td>15</td>\n",
       "      <td>0.20000</td>\n",
       "    </tr>\n",
       "    <tr>\n",
       "      <th>1</th>\n",
       "      <td>1</td>\n",
       "      <td>26117</td>\n",
       "      <td>32</td>\n",
       "      <td>141</td>\n",
       "      <td>0.22695</td>\n",
       "    </tr>\n",
       "  </tbody>\n",
       "</table>\n",
       "</div>"
      ],
      "text/plain": [
       "   exp_group  user_id  likes  views      ctr\n",
       "0          1   109963      3     15  0.20000\n",
       "1          1    26117     32    141  0.22695"
      ]
     },
     "execution_count": 41,
     "metadata": {},
     "output_type": "execute_result"
    }
   ],
   "source": [
    "df.head(2)"
   ]
  },
  {
   "cell_type": "code",
   "execution_count": 42,
   "id": "54f6e7b6",
   "metadata": {},
   "outputs": [],
   "source": [
    "# отделим лайки и просмотры для контрольной группы и тестовой\n",
    "likes1 = df[df.exp_group == 1].likes.to_numpy()\n",
    "views1 = df[df.exp_group == 1].views.to_numpy()\n",
    "likes2 = df[df.exp_group == 2].likes.to_numpy()\n",
    "views2 = df[df.exp_group == 2].views.to_numpy()"
   ]
  },
  {
   "cell_type": "code",
   "execution_count": 43,
   "id": "5573b44e",
   "metadata": {},
   "outputs": [],
   "source": [
    "# применим функцию и получим распределение глобальных CTR \n",
    "ctr1, ctr2 = bootstrap(likes1, views1, likes2, views2)"
   ]
  },
  {
   "cell_type": "code",
   "execution_count": 44,
   "id": "10ee79dd",
   "metadata": {},
   "outputs": [
    {
     "data": {
      "text/plain": [
       "<Axes: ylabel='Count'>"
      ]
     },
     "execution_count": 44,
     "metadata": {},
     "output_type": "execute_result"
    },
    {
     "data": {
      "image/png": "[encoded data removed]",
      "text/plain": [
       "<Figure size 800x500 with 1 Axes>"
      ]
     },
     "metadata": {},
     "output_type": "display_data"
    }
   ],
   "source": [
    "sns.histplot(ctr1)\n",
    "sns.histplot(ctr2)"
   ]
  },
  {
   "cell_type": "markdown",
   "id": "c240a15f",
   "metadata": {},
   "source": [
    "Как видно бутстрэп нам утверждает, что наш новый алгоритм(слева) значимо хуже(полностью разнесены распределения) чем наш старый алгоритм."
   ]
  },
  {
   "cell_type": "markdown",
   "id": "92cff85f",
   "metadata": {},
   "source": [
    "# Бакеты\n",
    "\n",
    "Сделаем тест Мана-уитни поверх бакетов"
   ]
  },
  {
   "cell_type": "code",
   "execution_count": 45,
   "id": "5c0c4b84",
   "metadata": {},
   "outputs": [],
   "source": [
    "\n",
    "q = \"\"\"\n",
    "SELECT exp_group, \n",
    "    xxHash64(user_id)%50 as bucket,\n",
    "    sum(action = 'like') as likes,\n",
    "    sum(action = 'view') as views,\n",
    "    likes/views as bucket_ctr\n",
    " FROM {db}.feed_actions\n",
    "    WHERE toDate(time) between '2021-11-15' and '2021-11-21' and exp_group in (1,2)\n",
    "GROUP BY exp_group, bucket\n",
    "\"\"\"\n",
    "df = pandahouse.read_clickhouse(q, connection=connection)\n"
   ]
  },
  {
   "cell_type": "code",
   "execution_count": 46,
   "id": "7502b01b",
   "metadata": {},
   "outputs": [
    {
     "data": {
      "text/html": [
       "<div>\n",
       "<style scoped>\n",
       "    .dataframe tbody tr th:only-of-type {\n",
       "        vertical-align: middle;\n",
       "    }\n",
       "\n",
       "    .dataframe tbody tr th {\n",
       "        vertical-align: top;\n",
       "    }\n",
       "\n",
       "    .dataframe thead th {\n",
       "        text-align: right;\n",
       "    }\n",
       "</style>\n",
       "<table border=\"1\" class=\"dataframe\">\n",
       "  <thead>\n",
       "    <tr style=\"text-align: right;\">\n",
       "      <th></th>\n",
       "      <th>exp_group</th>\n",
       "      <th>bucket</th>\n",
       "      <th>likes</th>\n",
       "      <th>views</th>\n",
       "      <th>bucket_ctr</th>\n",
       "    </tr>\n",
       "  </thead>\n",
       "  <tbody>\n",
       "    <tr>\n",
       "      <th>0</th>\n",
       "      <td>1</td>\n",
       "      <td>0</td>\n",
       "      <td>2624</td>\n",
       "      <td>13355</td>\n",
       "      <td>0.196481</td>\n",
       "    </tr>\n",
       "    <tr>\n",
       "      <th>1</th>\n",
       "      <td>2</td>\n",
       "      <td>0</td>\n",
       "      <td>2634</td>\n",
       "      <td>13559</td>\n",
       "      <td>0.194262</td>\n",
       "    </tr>\n",
       "  </tbody>\n",
       "</table>\n",
       "</div>"
      ],
      "text/plain": [
       "   exp_group  bucket  likes  views  bucket_ctr\n",
       "0          1       0   2624  13355    0.196481\n",
       "1          2       0   2634  13559    0.194262"
      ]
     },
     "execution_count": 46,
     "metadata": {},
     "output_type": "execute_result"
    }
   ],
   "source": [
    "df.head(2)"
   ]
  },
  {
   "cell_type": "code",
   "execution_count": 47,
   "id": "88d76e5f",
   "metadata": {},
   "outputs": [
    {
     "data": {
      "text/plain": [
       "MannwhitneyuResult(statistic=1995.0, pvalue=2.859963936492646e-07)"
      ]
     },
     "execution_count": 47,
     "metadata": {},
     "output_type": "execute_result"
    }
   ],
   "source": [
    "# тест Манна-Уитни\n",
    "stats.mannwhitneyu(df[df.exp_group == 1].bucket_ctr,\n",
    "                df[df.exp_group == 2].bucket_ctr,\n",
    "                alternative = 'two-sided')"
   ]
  },
  {
   "cell_type": "markdown",
   "id": "9910d963",
   "metadata": {},
   "source": [
    "Тест мана-уитни тоже видит значимое отличие. pvalue сильно меньше 0,05 "
   ]
  },
  {
   "cell_type": "code",
   "execution_count": 48,
   "id": "5d663b22",
   "metadata": {},
   "outputs": [
    {
     "data": {
      "image/png": "[encoded data removed]",
      "text/plain": [
       "<Figure size 800x500 with 1 Axes>"
      ]
     },
     "metadata": {},
     "output_type": "display_data"
    }
   ],
   "source": [
    "# нарисуем бакетное распределение\n",
    "sns.set(rc={'figure.figsize':(8, 5)})\n",
    "groups = sns.histplot(data=df,\n",
    "                      x='bucket_ctr',\n",
    "                      hue='exp_group',\n",
    "                      palette = ['r', 'b'],\n",
    "                      alpha=0.5,\n",
    "                      kde=False)"
   ]
  },
  {
   "cell_type": "markdown",
   "id": "5849fe99",
   "metadata": {},
   "source": [
    "Видим что бакетное распределение тоже явно отличаеться. "
   ]
  },
  {
   "cell_type": "markdown",
   "id": "59c7be12",
   "metadata": {},
   "source": [
    "**Финальное решение**\n",
    "\n",
    "\n",
    "С точки зрения общегруппового CTR наш новый алгорит хуже. Это доказываеться бутстрэпом, тестом мана-уитни поверх бакетов. Это даже можно пронаблюдать глазами. \n",
    "\n",
    "\n",
    "Но в новом алгоритме есть несколько интересных моментов. Появились пользователи у которых CTR существено повысился. Если мы получаем большую часть денег именно с этих пользователей, то наша целевая метрика которую нужно сравнивать это не среднее значение CTR а какой нибудь соответствующий квантиль распределения CTR. \n",
    "\n",
    "\n",
    "\n",
    "Совершено точно этот тест полезен, но на всех пользователей его не стоит раскатывать. "
   ]
  }
 ],
 "metadata": {
  "kernelspec": {
   "display_name": "Python 3 (ipykernel)",
   "language": "python",
   "name": "python3"
  },
  "language_info": {
   "codemirror_mode": {
    "name": "ipython",
    "version": 3
   },
   "file_extension": ".py",
   "mimetype": "text/x-python",
   "name": "python",
   "nbconvert_exporter": "python",
   "pygments_lexer": "ipython3",
   "version": "3.11.5"
  },
  "toc": {
   "base_numbering": 1,
   "nav_menu": {},
   "number_sections": false,
   "sideBar": true,
   "skip_h1_title": false,
   "title_cell": "Table of Contents",
   "title_sidebar": "Contents",
   "toc_cell": false,
   "toc_position": {
    "height": "calc(100% - 180px)",
    "left": "10px",
    "top": "150px",
    "width": "165px"
   },
   "toc_section_display": true,
   "toc_window_display": true
  }
 },
 "nbformat": 4,
 "nbformat_minor": 5
}
