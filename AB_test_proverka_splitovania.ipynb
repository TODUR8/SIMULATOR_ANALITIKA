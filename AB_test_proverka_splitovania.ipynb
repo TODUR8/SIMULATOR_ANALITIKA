{
 "cells": [
  {
   "cell_type": "markdown",
   "id": "60e9aa3c",
   "metadata": {},
   "source": [
    "**Описание Задачи.** \n",
    "\n",
    "Необходимо проверить что система сплитования работает корректно.  Для этого мы проведем множественные А-А  тесты с использованием бутстрэп. Принимаем  p-вэлью - 0,05. То есть значимые различия мы должны обнаружить не чаще чем в 5% случаев.\n",
    "\n",
    "\n",
    "Сравним группу 0 и 1 между собой. Проведем 10 000 А-А тестов между выборками сгенирироваными бутстрепом с повторениями. Будем генерировать простым бутстрепом. Проведем сравнение этих подвыборок t-testом.\n"
   ]
  },
  {
   "cell_type": "code",
   "execution_count": 1,
   "id": "2b36b88b",
   "metadata": {},
   "outputs": [
    {
     "name": "stderr",
     "output_type": "stream",
     "text": [
      "c:\\Users\\todur\\anaconda3\\Lib\\site-packages\\tqdm\\auto.py:21: TqdmWarning: IProgress not found. Please update jupyter and ipywidgets. See https://ipywidgets.readthedocs.io/en/stable/user_install.html\n",
      "  from .autonotebook import tqdm as notebook_tqdm\n"
     ]
    }
   ],
   "source": [
    "import pandahouse\n",
    "import pandas as pd\n",
    "import seaborn as sns\n",
    "import matplotlib.pyplot as plt\n",
    "import numpy as np\n",
    "import hashlib # Делать хеши\n",
    "import swifter # Ускорялка метода apply\n",
    "from scipy import stats # Статистика\n",
    "from scipy.stats import norm, ttest_ind\n",
    "%matplotlib inline\n",
    "\n",
    "from scipy.stats import mannwhitneyu"
   ]
  },
  {
   "cell_type": "code",
   "execution_count": 2,
   "id": "14c9bef4",
   "metadata": {},
   "outputs": [],
   "source": [
    "# создаёт словарь с именем connection, который содержит информацию для подключения к базе данных ClickHouse.\n",
    "connection = {\n",
    "    'host': 'https://clickhouse.lab.karpov.courses',\n",
    "    'password': 'dpo_python_2020',\n",
    "    'user': 'student',\n",
    "    'database': 'simulator'\n",
    "}"
   ]
  },
  {
   "cell_type": "code",
   "execution_count": 3,
   "id": "d281ede5",
   "metadata": {},
   "outputs": [],
   "source": [
    "# скачиваем данные из clickhouse группы 0 и 1. С '2021-11-14' по '2021-11-20'\n",
    "q = \"\"\"\n",
    "SELECT exp_group,\n",
    "    user_id,\n",
    "    sum(action = 'like') as likes,\n",
    "    sum(action = 'view') as views,\n",
    "    likes/views as ctr\n",
    "FROM {db}.feed_actions\n",
    "WHERE toDate(time) between '2021-11-14' and '2021-11-20' and exp_group in (0,1)\n",
    "GROUP BY exp_group, user_id\n",
    "\"\"\"\n",
    "df = pandahouse.read_clickhouse(q, connection=connection)\n"
   ]
  },
  {
   "cell_type": "code",
   "execution_count": 4,
   "id": "3306b77b",
   "metadata": {},
   "outputs": [
    {
     "data": {
      "text/html": [
       "<div>\n",
       "<style scoped>\n",
       "    .dataframe tbody tr th:only-of-type {\n",
       "        vertical-align: middle;\n",
       "    }\n",
       "\n",
       "    .dataframe tbody tr th {\n",
       "        vertical-align: top;\n",
       "    }\n",
       "\n",
       "    .dataframe thead th {\n",
       "        text-align: right;\n",
       "    }\n",
       "</style>\n",
       "<table border=\"1\" class=\"dataframe\">\n",
       "  <thead>\n",
       "    <tr style=\"text-align: right;\">\n",
       "      <th></th>\n",
       "      <th>exp_group</th>\n",
       "      <th>user_id</th>\n",
       "      <th>likes</th>\n",
       "      <th>views</th>\n",
       "      <th>ctr</th>\n",
       "    </tr>\n",
       "  </thead>\n",
       "  <tbody>\n",
       "    <tr>\n",
       "      <th>0</th>\n",
       "      <td>1</td>\n",
       "      <td>109963</td>\n",
       "      <td>3</td>\n",
       "      <td>15</td>\n",
       "      <td>0.200000</td>\n",
       "    </tr>\n",
       "    <tr>\n",
       "      <th>1</th>\n",
       "      <td>1</td>\n",
       "      <td>26117</td>\n",
       "      <td>32</td>\n",
       "      <td>141</td>\n",
       "      <td>0.226950</td>\n",
       "    </tr>\n",
       "    <tr>\n",
       "      <th>2</th>\n",
       "      <td>1</td>\n",
       "      <td>138232</td>\n",
       "      <td>18</td>\n",
       "      <td>73</td>\n",
       "      <td>0.246575</td>\n",
       "    </tr>\n",
       "  </tbody>\n",
       "</table>\n",
       "</div>"
      ],
      "text/plain": [
       "   exp_group  user_id  likes  views       ctr\n",
       "0          1   109963      3     15  0.200000\n",
       "1          1    26117     32    141  0.226950\n",
       "2          1   138232     18     73  0.246575"
      ]
     },
     "execution_count": 4,
     "metadata": {},
     "output_type": "execute_result"
    }
   ],
   "source": [
    "# посмотрим как выглядят наши данные\n",
    "df.head(3)"
   ]
  },
  {
   "cell_type": "code",
   "execution_count": 5,
   "id": "36da907b",
   "metadata": {},
   "outputs": [
    {
     "data": {
      "text/html": [
       "<div>\n",
       "<style scoped>\n",
       "    .dataframe tbody tr th:only-of-type {\n",
       "        vertical-align: middle;\n",
       "    }\n",
       "\n",
       "    .dataframe tbody tr th {\n",
       "        vertical-align: top;\n",
       "    }\n",
       "\n",
       "    .dataframe thead th {\n",
       "        text-align: right;\n",
       "    }\n",
       "</style>\n",
       "<table border=\"1\" class=\"dataframe\">\n",
       "  <thead>\n",
       "    <tr style=\"text-align: right;\">\n",
       "      <th></th>\n",
       "      <th>exp_group</th>\n",
       "      <th>user_id</th>\n",
       "    </tr>\n",
       "  </thead>\n",
       "  <tbody>\n",
       "    <tr>\n",
       "      <th>0</th>\n",
       "      <td>0</td>\n",
       "      <td>9849</td>\n",
       "    </tr>\n",
       "    <tr>\n",
       "      <th>1</th>\n",
       "      <td>1</td>\n",
       "      <td>9990</td>\n",
       "    </tr>\n",
       "  </tbody>\n",
       "</table>\n",
       "</div>"
      ],
      "text/plain": [
       "   exp_group  user_id\n",
       "0          0     9849\n",
       "1          1     9990"
      ]
     },
     "execution_count": 5,
     "metadata": {},
     "output_type": "execute_result"
    }
   ],
   "source": [
    "# посмотрим размер обоих групп\n",
    "df.groupby('exp_group',as_index =False).agg({'user_id':'count'}) "
   ]
  },
  {
   "cell_type": "code",
   "execution_count": 6,
   "id": "74e1de93",
   "metadata": {},
   "outputs": [],
   "source": [
    "# разделим по группам\n",
    "group_A = df[df.exp_group == 0].copy()\n",
    "group_B = df[df.exp_group == 1].copy()"
   ]
  },
  {
   "cell_type": "code",
   "execution_count": 7,
   "id": "731521ad",
   "metadata": {},
   "outputs": [
    {
     "data": {
      "image/png": "[encoded data removed]",
      "text/plain": [
       "<Figure size 1200x800 with 1 Axes>"
      ]
     },
     "metadata": {},
     "output_type": "display_data"
    }
   ],
   "source": [
    "# посмотрим как распределен CTR по группам\n",
    "sns.set(rc={'figure.figsize':(12,8)})\n",
    "groups = sns.histplot(data =df\n",
    "                     ,x='ctr'\n",
    "                     ,hue='exp_group'\n",
    "                     ,palette = ['r','b']\n",
    "                     ,alpha=0.5\n",
    "                     ,kde=False)"
   ]
  },
  {
   "cell_type": "markdown",
   "id": "c0d828e7",
   "metadata": {},
   "source": [
    "Визуально CTR по группам одинаковый."
   ]
  },
  {
   "cell_type": "code",
   "execution_count": 8,
   "id": "5bd1ec60",
   "metadata": {},
   "outputs": [],
   "source": [
    "# симуляция подвыборок \n",
    "ps = []\n",
    "for i in range(10000):\n",
    "    _, p_value = stats.ttest_ind(group_A.ctr.sample(frac=1, replace=True), \n",
    "                                 group_B.ctr.sample(frac=1, replace=True),\n",
    "                                 equal_var = False)\n",
    "    ps.append(p_value)"
   ]
  },
  {
   "cell_type": "code",
   "execution_count": 9,
   "id": "a0436ef1",
   "metadata": {},
   "outputs": [
    {
     "data": {
      "text/plain": [
       "<seaborn.axisgrid.FacetGrid at 0x1acf9286c50>"
      ]
     },
     "execution_count": 9,
     "metadata": {},
     "output_type": "execute_result"
    },
    {
     "data": {
      "image/png": "[encoded data removed]",
      "text/plain": [
       "<Figure size 500x500 with 1 Axes>"
      ]
     },
     "metadata": {},
     "output_type": "display_data"
    }
   ],
   "source": [
    "# посмотрим распределение\n",
    "sns.displot(ps)"
   ]
  },
  {
   "cell_type": "code",
   "execution_count": 10,
   "id": "2cdc363a",
   "metadata": {},
   "outputs": [
    {
     "data": {
      "text/plain": [
       "'Процет случаев когда у нас получились статистические значимые различия между 0 и 1 группой - 0.0537'"
      ]
     },
     "metadata": {},
     "output_type": "display_data"
    }
   ],
   "source": [
    "# Посчитаем, какой процент p values оказался меньше либо равен 0.05\n",
    "temp_1 = sum(np.array(ps)<0.05) / 10000\n",
    "display(f'Процет случаев когда у нас получились статистические значимые различия между 0 и 1 группой - {temp_1}')\n"
   ]
  },
  {
   "cell_type": "markdown",
   "id": "9f5615f7",
   "metadata": {},
   "source": [
    "**Вывод:**\n",
    "\n",
    "Наша система сплитования работает корректно, так как всего 4.7% p-value из сделанных выборок меньше или равно a (0,05). Показатель ложноположительных оценок находится ниже его границы. То есть наши тестовые группы одинаковые."
   ]
  }
 ],
 "metadata": {
  "kernelspec": {
   "display_name": "Python 3 (ipykernel)",
   "language": "python",
   "name": "python3"
  },
  "language_info": {
   "codemirror_mode": {
    "name": "ipython",
    "version": 3
   },
   "file_extension": ".py",
   "mimetype": "text/x-python",
   "name": "python",
   "nbconvert_exporter": "python",
   "pygments_lexer": "ipython3",
   "version": "3.11.5"
  },
  "toc": {
   "base_numbering": 1,
   "nav_menu": {},
   "number_sections": false,
   "sideBar": true,
   "skip_h1_title": false,
   "title_cell": "Table of Contents",
   "title_sidebar": "Contents",
   "toc_cell": false,
   "toc_position": {
    "height": "calc(100% - 180px)",
    "left": "10px",
    "top": "150px",
    "width": "165px"
   },
   "toc_section_display": true,
   "toc_window_display": true
  }
 },
 "nbformat": 4,
 "nbformat_minor": 5
}
