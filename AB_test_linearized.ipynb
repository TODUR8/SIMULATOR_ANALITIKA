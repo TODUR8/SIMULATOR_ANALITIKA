{
 "cells": [
  {
   "cell_type": "markdown",
   "id": "e6501092",
   "metadata": {},
   "source": [
    "# Описание Задачи.\n",
    "1. Необходимо провести тест между группами 0 и 3 по метрике линеаризованных лайков. Посмотреть есть ли отличие? Стало ли 𝑝−𝑣𝑎𝑙𝑢𝑒 меньше по сравнению с обычным CTR?\n",
    "2. Анологичный тест необходимо провести тест между группами 1 и 2 по метрике линеаризованных лайков. \n"
   ]
  },
  {
   "cell_type": "code",
   "execution_count": 17,
   "id": "2b36b88b",
   "metadata": {},
   "outputs": [],
   "source": [
    "import pandahouse\n",
    "import pandas as pd\n",
    "import seaborn as sns\n",
    "import matplotlib.pyplot as plt\n",
    "import numpy as np\n",
    "import hashlib # Делать хеши\n",
    "import swifter # Ускорялка метода apply\n",
    "from scipy import stats # Статистика\n",
    "from scipy.stats import norm, ttest_ind\n",
    "%matplotlib inline\n",
    "\n",
    "from scipy.stats import mannwhitneyu"
   ]
  },
  {
   "cell_type": "code",
   "execution_count": 18,
   "id": "14c9bef4",
   "metadata": {},
   "outputs": [],
   "source": [
    "# создаёт словарь с именем connection, который содержит информацию для подключения к базе данных ClickHouse.\n",
    "connection = {\n",
    "    'host': 'https://clickhouse.lab.karpov.courses',\n",
    "    'password': 'dpo_python_2020',\n",
    "    'user': 'student',\n",
    "    'database': 'simulator'\n",
    "}"
   ]
  },
  {
   "cell_type": "markdown",
   "id": "d0581907",
   "metadata": {},
   "source": [
    "# Тест между группами 0 и 3"
   ]
  },
  {
   "cell_type": "code",
   "execution_count": 19,
   "id": "a3b29b68",
   "metadata": {},
   "outputs": [],
   "source": [
    "# скачиваем данные из clickhouse группы 0 и 3. С '2021-11-15' по '2021-11-21'\n",
    "q = \"\"\"\n",
    "SELECT exp_group,\n",
    "    user_id,\n",
    "    sum(action = 'like') as likes,\n",
    "    sum(action = 'view') as views,\n",
    "    likes/views as ctr\n",
    "FROM {db}.feed_actions\n",
    "WHERE toDate(time) between '2021-11-15' and '2021-11-21' and exp_group in (0,3)\n",
    "GROUP BY exp_group, user_id\n",
    "\"\"\"\n",
    "df = pandahouse.read_clickhouse(q, connection=connection)\n"
   ]
  },
  {
   "cell_type": "code",
   "execution_count": 20,
   "id": "33d29065",
   "metadata": {},
   "outputs": [],
   "source": [
    "df.to_excel('новый.xlsx', index=True)"
   ]
  },
  {
   "cell_type": "markdown",
   "id": "a73d3465",
   "metadata": {},
   "source": [
    "Посчитаем общий CTR в контрольной группе 𝐶𝑇𝑅𝑐𝑜𝑛𝑡𝑟𝑜𝑙=𝑠𝑢𝑚(𝑙𝑖𝑘𝑒𝑠)/𝑠𝑢𝑚(𝑣𝑖𝑒𝑤𝑠) Посчитаем в обеих группах поюзерную метрику 𝑙𝑖𝑛𝑒𝑎𝑟𝑖𝑧𝑒𝑑_𝑙𝑖𝑘𝑒𝑠=𝑙𝑖𝑘𝑒𝑠−𝐶𝑇𝑅𝑐𝑜𝑛𝑡𝑟𝑜𝑙∗𝑣𝑖𝑒𝑤𝑠 После чего сравним t-тестом отличия в группах по метрике 𝑙𝑖𝑛𝑒𝑎𝑟𝑖𝑧𝑒𝑑_𝑙𝑖𝑘𝑒𝑠"
   ]
  },
  {
   "cell_type": "code",
   "execution_count": 21,
   "id": "e6a2ab4b",
   "metadata": {},
   "outputs": [
    {
     "data": {
      "text/plain": [
       "0.20823612262916305"
      ]
     },
     "execution_count": 21,
     "metadata": {},
     "output_type": "execute_result"
    }
   ],
   "source": [
    "# контрольная группа это группа 0\n",
    "control_ctr = df[df.exp_group == 0].likes.sum() / df[df.exp_group == 0].views.sum()\n",
    "control_ctr"
   ]
  },
  {
   "cell_type": "markdown",
   "id": "64b63b76",
   "metadata": {},
   "source": [
    "Смотрим линеаризованные лайки. Берем лайки минус CTR контроля умноженный на просмотры. Считаем и для теста и для контроля."
   ]
  },
  {
   "cell_type": "code",
   "execution_count": 22,
   "id": "250aa672",
   "metadata": {},
   "outputs": [
    {
     "data": {
      "text/html": [
       "<div>\n",
       "<style scoped>\n",
       "    .dataframe tbody tr th:only-of-type {\n",
       "        vertical-align: middle;\n",
       "    }\n",
       "\n",
       "    .dataframe tbody tr th {\n",
       "        vertical-align: top;\n",
       "    }\n",
       "\n",
       "    .dataframe thead th {\n",
       "        text-align: right;\n",
       "    }\n",
       "</style>\n",
       "<table border=\"1\" class=\"dataframe\">\n",
       "  <thead>\n",
       "    <tr style=\"text-align: right;\">\n",
       "      <th></th>\n",
       "      <th>exp_group</th>\n",
       "      <th>user_id</th>\n",
       "      <th>likes</th>\n",
       "      <th>views</th>\n",
       "      <th>ctr</th>\n",
       "      <th>linearized_likes</th>\n",
       "    </tr>\n",
       "  </thead>\n",
       "  <tbody>\n",
       "    <tr>\n",
       "      <th>0</th>\n",
       "      <td>3</td>\n",
       "      <td>115383</td>\n",
       "      <td>9</td>\n",
       "      <td>30</td>\n",
       "      <td>0.300000</td>\n",
       "      <td>2.752916</td>\n",
       "    </tr>\n",
       "    <tr>\n",
       "      <th>1</th>\n",
       "      <td>3</td>\n",
       "      <td>123580</td>\n",
       "      <td>13</td>\n",
       "      <td>48</td>\n",
       "      <td>0.270833</td>\n",
       "      <td>3.004666</td>\n",
       "    </tr>\n",
       "  </tbody>\n",
       "</table>\n",
       "</div>"
      ],
      "text/plain": [
       "   exp_group  user_id  likes  views       ctr  linearized_likes\n",
       "0          3   115383      9     30  0.300000          2.752916\n",
       "1          3   123580     13     48  0.270833          3.004666"
      ]
     },
     "execution_count": 22,
     "metadata": {},
     "output_type": "execute_result"
    }
   ],
   "source": [
    "df['linearized_likes'] = df['likes'] - control_ctr * df['views']\n",
    "df.head(2)"
   ]
  },
  {
   "cell_type": "code",
   "execution_count": 23,
   "id": "7f098075",
   "metadata": {},
   "outputs": [
    {
     "data": {
      "image/png": "[encoded data removed]",
      "text/plain": [
       "<Figure size 800x500 with 1 Axes>"
      ]
     },
     "metadata": {},
     "output_type": "display_data"
    }
   ],
   "source": [
    "# смотрим распределение линеаризованной метрики\n",
    "sns.set(rc={'figure.figsize':(8, 5)})\n",
    "groups = sns.histplot(data=df,\n",
    "                      x='linearized_likes',\n",
    "                      hue='exp_group',\n",
    "                      palette = ['r', 'b'],\n",
    "                      alpha=0.5, \n",
    "                      kde=False)"
   ]
  },
  {
   "cell_type": "markdown",
   "id": "5bdad964",
   "metadata": {},
   "source": [
    "Визуально кажеться, что одна метрика более явно сдвинута чем в другой. "
   ]
  },
  {
   "cell_type": "code",
   "execution_count": 24,
   "id": "68d2e3cd",
   "metadata": {},
   "outputs": [
    {
     "data": {
      "text/plain": [
       "TtestResult(statistic=-13.896870721904069, pvalue=1.055849414662529e-43, df=20032.623598070695)"
      ]
     },
     "execution_count": 24,
     "metadata": {},
     "output_type": "execute_result"
    }
   ],
   "source": [
    "# сравним Т-тестом обычные CTR группы А и группы В\n",
    "stats.ttest_ind(df[df.exp_group == 0].ctr,      \n",
    "                df[df.exp_group == 3].ctr,\n",
    "                equal_var=False)"
   ]
  },
  {
   "cell_type": "markdown",
   "id": "f2d3ed54",
   "metadata": {},
   "source": [
    "Т-тестом указывает на то что есть статистически значимымые различия между контрольной и экспериментальной группой."
   ]
  },
  {
   "cell_type": "code",
   "execution_count": 25,
   "id": "bfd0ae9e",
   "metadata": {},
   "outputs": [
    {
     "data": {
      "text/plain": [
       "TtestResult(statistic=-15.21499546090383, pvalue=5.491424947968532e-52, df=20040.49721892551)"
      ]
     },
     "execution_count": 25,
     "metadata": {},
     "output_type": "execute_result"
    }
   ],
   "source": [
    "# сравним Т-тестом линеаризованные лайки группы А и группы В\n",
    "stats.ttest_ind(df[df.exp_group == 0].linearized_likes,      \n",
    "                df[df.exp_group == 3].linearized_likes,\n",
    "                equal_var=False)"
   ]
  },
  {
   "cell_type": "markdown",
   "id": "765e2080",
   "metadata": {},
   "source": [
    "На линиаризованных лайках p-value совсем ничтожный. Значение нашей статистики (statistic-15) по модулю больше, а p-value сильно меньше чем показал Т-тест на обычных CTR. Это означает, что при том же различии в исходном CTR мы можем заметить меньшие изменения. То есть метрика стала более чувствительной."
   ]
  },
  {
   "cell_type": "markdown",
   "id": "009a8835",
   "metadata": {},
   "source": [
    "# Тест между группамиы  1 и 2\n",
    "Проверим тоже самое, работоспособность метода линеаризации на тесте с группами 1 и 2"
   ]
  },
  {
   "cell_type": "code",
   "execution_count": 26,
   "id": "24711d9e",
   "metadata": {},
   "outputs": [],
   "source": [
    "# скачиваем данные из clickhouse группы 1 и 2. С '2021-11-15' по '2021-11-21'\n",
    "q = \"\"\"\n",
    "SELECT exp_group,\n",
    "    user_id,\n",
    "    sum(action = 'like') as likes,\n",
    "    sum(action = 'view') as views,\n",
    "    likes/views as ctr\n",
    "FROM {db}.feed_actions\n",
    "WHERE toDate(time) between '2021-11-15' and '2021-11-21' and exp_group in (1,2)\n",
    "GROUP BY exp_group, user_id\n",
    "\"\"\"\n",
    "df = pandahouse.read_clickhouse(q, connection=connection)\n"
   ]
  },
  {
   "cell_type": "code",
   "execution_count": 27,
   "id": "1c8deb94",
   "metadata": {},
   "outputs": [],
   "source": [
    "df.to_excel('новый_2.xlsx', index=True)"
   ]
  },
  {
   "cell_type": "code",
   "execution_count": 28,
   "id": "17841eaa",
   "metadata": {},
   "outputs": [
    {
     "data": {
      "text/plain": [
       "0.20802680490126244"
      ]
     },
     "execution_count": 28,
     "metadata": {},
     "output_type": "execute_result"
    }
   ],
   "source": [
    "# контрольная группа это группа 1\n",
    "control_ctr = df[df.exp_group == 1].likes.sum() / df[df.exp_group == 1].views.sum()\n",
    "control_ctr"
   ]
  },
  {
   "cell_type": "code",
   "execution_count": 29,
   "id": "cc156090",
   "metadata": {},
   "outputs": [
    {
     "data": {
      "text/html": [
       "<div>\n",
       "<style scoped>\n",
       "    .dataframe tbody tr th:only-of-type {\n",
       "        vertical-align: middle;\n",
       "    }\n",
       "\n",
       "    .dataframe tbody tr th {\n",
       "        vertical-align: top;\n",
       "    }\n",
       "\n",
       "    .dataframe thead th {\n",
       "        text-align: right;\n",
       "    }\n",
       "</style>\n",
       "<table border=\"1\" class=\"dataframe\">\n",
       "  <thead>\n",
       "    <tr style=\"text-align: right;\">\n",
       "      <th></th>\n",
       "      <th>exp_group</th>\n",
       "      <th>user_id</th>\n",
       "      <th>likes</th>\n",
       "      <th>views</th>\n",
       "      <th>ctr</th>\n",
       "      <th>linearized_likes</th>\n",
       "    </tr>\n",
       "  </thead>\n",
       "  <tbody>\n",
       "    <tr>\n",
       "      <th>0</th>\n",
       "      <td>1</td>\n",
       "      <td>109963</td>\n",
       "      <td>3</td>\n",
       "      <td>15</td>\n",
       "      <td>0.20000</td>\n",
       "      <td>-0.120402</td>\n",
       "    </tr>\n",
       "    <tr>\n",
       "      <th>1</th>\n",
       "      <td>1</td>\n",
       "      <td>26117</td>\n",
       "      <td>32</td>\n",
       "      <td>141</td>\n",
       "      <td>0.22695</td>\n",
       "      <td>2.668221</td>\n",
       "    </tr>\n",
       "  </tbody>\n",
       "</table>\n",
       "</div>"
      ],
      "text/plain": [
       "   exp_group  user_id  likes  views      ctr  linearized_likes\n",
       "0          1   109963      3     15  0.20000         -0.120402\n",
       "1          1    26117     32    141  0.22695          2.668221"
      ]
     },
     "execution_count": 29,
     "metadata": {},
     "output_type": "execute_result"
    }
   ],
   "source": [
    "df['linearized_likes'] = df['likes'] - control_ctr * df['views']\n",
    "df.head(2)"
   ]
  },
  {
   "cell_type": "code",
   "execution_count": 30,
   "id": "9d72c7c3",
   "metadata": {},
   "outputs": [
    {
     "data": {
      "image/png": "[encoded data removed]",
      "text/plain": [
       "<Figure size 800x500 with 1 Axes>"
      ]
     },
     "metadata": {},
     "output_type": "display_data"
    }
   ],
   "source": [
    "# смотрим распределение линеаризованной метрики\n",
    "sns.set(rc={'figure.figsize':(8, 5)})\n",
    "groups = sns.histplot(data=df,\n",
    "                      x='linearized_likes',\n",
    "                      hue='exp_group',\n",
    "                      palette = ['r', 'b'],\n",
    "                      alpha=0.5, \n",
    "                      kde=False)"
   ]
  },
  {
   "cell_type": "markdown",
   "id": "f7292e48",
   "metadata": {},
   "source": [
    "Получили график линеаризованых лайков, в одной группе это расспределение сгрудилось около нуля (потому что мы ровно его среднее вычли). Второе распределение стало чуть более нормализованным, оно центрировалось более симетричным стало. Провал остался, но на нормальность явно больше подходит чем было раньше. "
   ]
  },
  {
   "cell_type": "code",
   "execution_count": 31,
   "id": "775c21a7",
   "metadata": {},
   "outputs": [
    {
     "data": {
      "text/plain": [
       "TtestResult(statistic=6.122579994775972, pvalue=9.439432187037815e-10, df=14823.29033279499)"
      ]
     },
     "execution_count": 31,
     "metadata": {},
     "output_type": "execute_result"
    }
   ],
   "source": [
    "# сравним Т-тестом линеаризованные лайки группы А и группы В\n",
    "stats.ttest_ind(df[df.exp_group == 1].linearized_likes,      \n",
    "                df[df.exp_group == 2].linearized_likes,\n",
    "                equal_var=False)"
   ]
  },
  {
   "cell_type": "markdown",
   "id": "bcf0701d",
   "metadata": {},
   "source": [
    "На линеаризованое метрики Т-тест очень уверено прокрасился и говорит нам что отличие в группах есть. Как мы и видели на других тестах, которые могли работать с сильно не нормальными расспределениями. \n",
    "\n",
    "**Вывод:**\n",
    "\n",
    "При ненормальном распределении Т-тест нечувствителен, если же мы применим линеаризацию то тот же Т-тест станет чувствительным."
   ]
  }
 ],
 "metadata": {
  "kernelspec": {
   "display_name": "Python 3 (ipykernel)",
   "language": "python",
   "name": "python3"
  },
  "language_info": {
   "codemirror_mode": {
    "name": "ipython",
    "version": 3
   },
   "file_extension": ".py",
   "mimetype": "text/x-python",
   "name": "python",
   "nbconvert_exporter": "python",
   "pygments_lexer": "ipython3",
   "version": "3.11.5"
  },
  "toc": {
   "base_numbering": 1,
   "nav_menu": {},
   "number_sections": false,
   "sideBar": true,
   "skip_h1_title": false,
   "title_cell": "Table of Contents",
   "title_sidebar": "Contents",
   "toc_cell": false,
   "toc_position": {
    "height": "calc(100% - 180px)",
    "left": "10px",
    "top": "150px",
    "width": "165px"
   },
   "toc_section_display": true,
   "toc_window_display": true
  }
 },
 "nbformat": 4,
 "nbformat_minor": 5
}
