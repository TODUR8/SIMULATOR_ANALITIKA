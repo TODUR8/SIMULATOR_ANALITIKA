{
 "cells": [
  {
   "cell_type": "markdown",
   "id": "6aeb9c96",
   "metadata": {},
   "source": [
    "Необходимо проанализировать результаты эксперемента который проходил с 2024-03-01 по 2024-03-07 включительно. Для эксперимента были задействованы 2 и 1 группы. В группе два был использован новый алгоритм рекомендации постов, группа 1 контрольная. \n",
    "\n",
    "Гипотеза в том новый алгоритм во 2-й группе приведет к увеличению CTR.  Попробуем несколько тестов и графический анализ. Необходимо написать рекомендацию нужно ли раскатывать новый алгоритм на всех пользователей. "
   ]
  },
  {
   "cell_type": "code",
   "execution_count": 1,
   "id": "2b36b88b",
   "metadata": {},
   "outputs": [
    {
     "name": "stderr",
     "output_type": "stream",
     "text": [
      "c:\\Users\\todur\\anaconda3\\Lib\\site-packages\\tqdm\\auto.py:21: TqdmWarning: IProgress not found. Please update jupyter and ipywidgets. See https://ipywidgets.readthedocs.io/en/stable/user_install.html\n",
      "  from .autonotebook import tqdm as notebook_tqdm\n"
     ]
    }
   ],
   "source": [
    "import pandahouse\n",
    "import pandas as pd\n",
    "import seaborn as sns\n",
    "import matplotlib.pyplot as pltgit \n",
    "import numpy as np\n",
    "import hashlib # Делать хеши\n",
    "import swifter # Ускорялка метода apply\n",
    "from scipy import stats # Статистика\n",
    "from scipy.stats import norm, ttest_ind\n",
    "%matplotlib inline\n",
    "\n",
    "from scipy.stats import mannwhitneyu"
   ]
  },
  {
   "cell_type": "code",
   "execution_count": 2,
   "id": "14c9bef4",
   "metadata": {},
   "outputs": [],
   "source": [
    "# создаёт словарь с именем connection, который содержит информацию для подключения к базе данных ClickHouse.\n",
    "connection = {\n",
    "    'host': 'https://clickhouse.lab.karpov.courses',\n",
    "    'password': 'dpo_python_2020',\n",
    "    'user': 'student',\n",
    "    'database': 'simulator_20240320'\n",
    "}"
   ]
  },
  {
   "cell_type": "code",
   "execution_count": 5,
   "id": "d281ede5",
   "metadata": {},
   "outputs": [],
   "source": [
    "# скачиваем данные из clickhouse \n",
    "q = \"\"\"\n",
    "SELECT exp_group,\n",
    "    user_id,\n",
    "    sum(action = 'like') as likes,\n",
    "    sum(action = 'view') as views,\n",
    "    likes/views as ctr\n",
    "FROM {db}.feed_actions\n",
    "WHERE toDate(time) between '2024-03-01' and '2024-03-07' and exp_group in (2,1)\n",
    "GROUP BY exp_group, user_id\n",
    "\"\"\"\n",
    "df = pandahouse.read_clickhouse(q, connection=connection)\n"
   ]
  },
  {
   "cell_type": "code",
   "execution_count": 6,
   "id": "9a4e16b9",
   "metadata": {},
   "outputs": [
    {
     "data": {
      "text/html": [
       "<div>\n",
       "<style scoped>\n",
       "    .dataframe tbody tr th:only-of-type {\n",
       "        vertical-align: middle;\n",
       "    }\n",
       "\n",
       "    .dataframe tbody tr th {\n",
       "        vertical-align: top;\n",
       "    }\n",
       "\n",
       "    .dataframe thead th {\n",
       "        text-align: right;\n",
       "    }\n",
       "</style>\n",
       "<table border=\"1\" class=\"dataframe\">\n",
       "  <thead>\n",
       "    <tr style=\"text-align: right;\">\n",
       "      <th></th>\n",
       "      <th>exp_group</th>\n",
       "      <th>user_id</th>\n",
       "      <th>likes</th>\n",
       "      <th>views</th>\n",
       "      <th>ctr</th>\n",
       "    </tr>\n",
       "  </thead>\n",
       "  <tbody>\n",
       "    <tr>\n",
       "      <th>0</th>\n",
       "      <td>1</td>\n",
       "      <td>109963</td>\n",
       "      <td>3</td>\n",
       "      <td>15</td>\n",
       "      <td>0.200000</td>\n",
       "    </tr>\n",
       "    <tr>\n",
       "      <th>1</th>\n",
       "      <td>1</td>\n",
       "      <td>26117</td>\n",
       "      <td>32</td>\n",
       "      <td>141</td>\n",
       "      <td>0.226950</td>\n",
       "    </tr>\n",
       "    <tr>\n",
       "      <th>2</th>\n",
       "      <td>1</td>\n",
       "      <td>138232</td>\n",
       "      <td>18</td>\n",
       "      <td>73</td>\n",
       "      <td>0.246575</td>\n",
       "    </tr>\n",
       "  </tbody>\n",
       "</table>\n",
       "</div>"
      ],
      "text/plain": [
       "   exp_group  user_id  likes  views       ctr\n",
       "0          1   109963      3     15  0.200000\n",
       "1          1    26117     32    141  0.226950\n",
       "2          1   138232     18     73  0.246575"
      ]
     },
     "execution_count": 6,
     "metadata": {},
     "output_type": "execute_result"
    }
   ],
   "source": [
    "df.head(3)"
   ]
  },
  {
   "cell_type": "code",
   "execution_count": 7,
   "id": "c2dc882f",
   "metadata": {},
   "outputs": [],
   "source": [
    "# разделим по группам\n",
    "group_A = df[df.exp_group == 2].copy()\n",
    "group_B = df[df.exp_group == 1].copy()"
   ]
  },
  {
   "cell_type": "markdown",
   "id": "f01c86a7",
   "metadata": {},
   "source": [
    "# Т-тест\n",
    "сравним Т-тестом CTR группы А и группы В"
   ]
  },
  {
   "cell_type": "code",
   "execution_count": 8,
   "id": "ceb3670b",
   "metadata": {},
   "outputs": [
    {
     "data": {
      "text/plain": [
       "TtestResult(statistic=-0.4051491913112757, pvalue=0.685373331140751, df=15811.22649797086)"
      ]
     },
     "execution_count": 8,
     "metadata": {},
     "output_type": "execute_result"
    }
   ],
   "source": [
    "# сравним Т-тестом CTR группы А и группы В\n",
    "stats.ttest_ind(group_A.ctr, group_B.ctr, equal_var = False)"
   ]
  },
  {
   "cell_type": "markdown",
   "id": "b45e1670",
   "metadata": {},
   "source": [
    "Т-тест утверждает что отличий нет(так как получили  pvalue=0.68)."
   ]
  },
  {
   "cell_type": "markdown",
   "id": "c16f3551",
   "metadata": {},
   "source": [
    "# сглаженный CTR\n",
    "сравним Т-тестом сглаженный CTR группы А и группы В"
   ]
  },
  {
   "cell_type": "code",
   "execution_count": 9,
   "id": "54e02ee8",
   "metadata": {},
   "outputs": [],
   "source": [
    "# функция для сглаженного CTR\n",
    "def get_smothed_ctr(user_likes, user_views, global_ctr, alpha):\n",
    "    smothed_ctr = (user_likes + alpha * global_ctr) / (user_views + alpha)\n",
    "    return smothed_ctr\n",
    "\n",
    "# считаем общегрупповой CTR для группы А и В\n",
    "global_ctr_A = df[df.exp_group == 2].likes.sum() / df[df.exp_group == 2].views.sum()\n",
    "global_ctr_B = df[df.exp_group == 1].likes.sum() / df[df.exp_group == 1].views.sum()"
   ]
  },
  {
   "cell_type": "code",
   "execution_count": 10,
   "id": "bff17f33",
   "metadata": {},
   "outputs": [],
   "source": [
    "# построим метрику сглаженного CTR для группы А и В\n",
    "# (просто применим функцию, гиперпараметр присвоили 5)\n",
    "group_A['smothed_ctr'] = df.apply(\n",
    "    lambda x: get_smothed_ctr(x['likes'], x['views'], global_ctr_A, 5), axis=1)\n",
    "\n",
    "group_B['smothed_ctr'] = df.apply(\n",
    "    lambda x: get_smothed_ctr(x['likes'], x['views'], global_ctr_B, 5), axis=1)\n"
   ]
  },
  {
   "cell_type": "code",
   "execution_count": 11,
   "id": "bc9de923",
   "metadata": {},
   "outputs": [
    {
     "data": {
      "text/html": [
       "<div>\n",
       "<style scoped>\n",
       "    .dataframe tbody tr th:only-of-type {\n",
       "        vertical-align: middle;\n",
       "    }\n",
       "\n",
       "    .dataframe tbody tr th {\n",
       "        vertical-align: top;\n",
       "    }\n",
       "\n",
       "    .dataframe thead th {\n",
       "        text-align: right;\n",
       "    }\n",
       "</style>\n",
       "<table border=\"1\" class=\"dataframe\">\n",
       "  <thead>\n",
       "    <tr style=\"text-align: right;\">\n",
       "      <th></th>\n",
       "      <th>exp_group</th>\n",
       "      <th>user_id</th>\n",
       "      <th>likes</th>\n",
       "      <th>views</th>\n",
       "      <th>ctr</th>\n",
       "      <th>smothed_ctr</th>\n",
       "    </tr>\n",
       "  </thead>\n",
       "  <tbody>\n",
       "    <tr>\n",
       "      <th>5</th>\n",
       "      <td>2</td>\n",
       "      <td>131473</td>\n",
       "      <td>9</td>\n",
       "      <td>108</td>\n",
       "      <td>0.083333</td>\n",
       "      <td>0.088507</td>\n",
       "    </tr>\n",
       "    <tr>\n",
       "      <th>6</th>\n",
       "      <td>2</td>\n",
       "      <td>23985</td>\n",
       "      <td>7</td>\n",
       "      <td>87</td>\n",
       "      <td>0.080460</td>\n",
       "      <td>0.086970</td>\n",
       "    </tr>\n",
       "  </tbody>\n",
       "</table>\n",
       "</div>"
      ],
      "text/plain": [
       "   exp_group  user_id  likes  views       ctr  smothed_ctr\n",
       "5          2   131473      9    108  0.083333     0.088507\n",
       "6          2    23985      7     87  0.080460     0.086970"
      ]
     },
     "metadata": {},
     "output_type": "display_data"
    },
    {
     "data": {
      "text/html": [
       "<div>\n",
       "<style scoped>\n",
       "    .dataframe tbody tr th:only-of-type {\n",
       "        vertical-align: middle;\n",
       "    }\n",
       "\n",
       "    .dataframe tbody tr th {\n",
       "        vertical-align: top;\n",
       "    }\n",
       "\n",
       "    .dataframe thead th {\n",
       "        text-align: right;\n",
       "    }\n",
       "</style>\n",
       "<table border=\"1\" class=\"dataframe\">\n",
       "  <thead>\n",
       "    <tr style=\"text-align: right;\">\n",
       "      <th></th>\n",
       "      <th>exp_group</th>\n",
       "      <th>user_id</th>\n",
       "      <th>likes</th>\n",
       "      <th>views</th>\n",
       "      <th>ctr</th>\n",
       "      <th>smothed_ctr</th>\n",
       "    </tr>\n",
       "  </thead>\n",
       "  <tbody>\n",
       "    <tr>\n",
       "      <th>0</th>\n",
       "      <td>1</td>\n",
       "      <td>109963</td>\n",
       "      <td>3</td>\n",
       "      <td>15</td>\n",
       "      <td>0.20000</td>\n",
       "      <td>0.202401</td>\n",
       "    </tr>\n",
       "    <tr>\n",
       "      <th>1</th>\n",
       "      <td>1</td>\n",
       "      <td>26117</td>\n",
       "      <td>32</td>\n",
       "      <td>141</td>\n",
       "      <td>0.22695</td>\n",
       "      <td>0.226356</td>\n",
       "    </tr>\n",
       "  </tbody>\n",
       "</table>\n",
       "</div>"
      ],
      "text/plain": [
       "   exp_group  user_id  likes  views      ctr  smothed_ctr\n",
       "0          1   109963      3     15  0.20000     0.202401\n",
       "1          1    26117     32    141  0.22695     0.226356"
      ]
     },
     "metadata": {},
     "output_type": "display_data"
    }
   ],
   "source": [
    "display(group_A.head(2))\n",
    "display(group_B.head(2))"
   ]
  },
  {
   "cell_type": "code",
   "execution_count": 12,
   "id": "d2c34221",
   "metadata": {},
   "outputs": [
    {
     "data": {
      "text/plain": [
       "TtestResult(statistic=-1.9460491517027683, pvalue=0.05166679015318526, df=15580.626569177026)"
      ]
     },
     "execution_count": 12,
     "metadata": {},
     "output_type": "execute_result"
    }
   ],
   "source": [
    "# сравним Т-тестом сглаженные CTR группы А и группы В\n",
    "stats.ttest_ind(group_A.smothed_ctr, group_B.smothed_ctr, equal_var = False)"
   ]
  },
  {
   "cell_type": "markdown",
   "id": "a1bc44e5",
   "metadata": {},
   "source": [
    "Получили pvalue=0.06  чуть больше 0,05 это означает что не отвергаем нулевую гипотезу, но ситуация совсем не одназназная. "
   ]
  },
  {
   "cell_type": "markdown",
   "id": "110b14c5",
   "metadata": {},
   "source": [
    "# Гистограма распределений\n",
    "**Посмотрим как выглядят наши расспределения CTR**"
   ]
  },
  {
   "cell_type": "code",
   "execution_count": 13,
   "id": "0eb0574b",
   "metadata": {},
   "outputs": [
    {
     "data": {
      "image/png": "[encoded data removed]",
      "text/plain": [
       "<Figure size 800x500 with 1 Axes>"
      ]
     },
     "metadata": {},
     "output_type": "display_data"
    }
   ],
   "source": [
    "sns.set(rc={'figure.figsize':(8, 5)})\n",
    "groups = sns.histplot(data=df,\n",
    "                      x='ctr',\n",
    "                      hue='exp_group',\n",
    "                      palette = ['r', 'b'],\n",
    "                      alpha=0.5,\n",
    "                      kde=False)"
   ]
  },
  {
   "cell_type": "markdown",
   "id": "dbbfb27e",
   "metadata": {},
   "source": [
    "Распределения полностью поменяли форму! В контрольной группе распределение осталось одногорбое похожее на нормальное, а в эксперементальной группе горба стало 2! \n",
    "\n",
    "\n",
    "Почему наш стандартный Т-тест не заметил различия? Потому, что средние значения почти не отличаются"
   ]
  },
  {
   "cell_type": "code",
   "execution_count": 14,
   "id": "4637594a",
   "metadata": {},
   "outputs": [
    {
     "data": {
      "text/plain": [
       "(0.20025051027061783, 0.2096041628394293)"
      ]
     },
     "execution_count": 14,
     "metadata": {},
     "output_type": "execute_result"
    }
   ],
   "source": [
    "# выведем средний CTR в группе А и В\n",
    "global_ctr_A, global_ctr_B"
   ]
  },
  {
   "cell_type": "markdown",
   "id": "b0feec31",
   "metadata": {},
   "source": [
    "# Бутстрэп. \n",
    "\n",
    "Сравним группы А и В с помощью Бутстрэп"
   ]
  },
  {
   "cell_type": "code",
   "execution_count": 15,
   "id": "ef02926a",
   "metadata": {},
   "outputs": [],
   "source": [
    "#на вход функция принимает лайки и просмотры по группам, а также указываем что бутстреп будет проводиться 2000 раз\n",
    "def bootstrap(likes1, views1, likes2, views2, n_bootstrap=2000):\n",
    "    # 2000 раз генерируем веса из расспределения пуассона для группы А и для группы В\n",
    "    poisson_bootstraps1 = stats.poisson(1).rvs((n_bootstrap, len(likes1))).astype(np.int64)\n",
    "    poisson_bootstraps2 = stats.poisson(1).rvs((n_bootstrap, len(likes2))).astype(np.int64)\n",
    "\n",
    "    # считаем глобальный CTR для группы А и В(поскольку мы это делаем 2000 раз мы получаем расспределение \n",
    "    # из 2000 глобальных CTR для группы А и 2000 глобальных CTR для группы В)\n",
    "    globalCTR1 = (poisson_bootstraps1*likes1).sum(axis=1)/(poisson_bootstraps1*views1).sum(axis=1)\n",
    "    globalCTR2 = (poisson_bootstraps2*likes2).sum(axis=1)/(poisson_bootstraps2*views2).sum(axis=1)\n",
    "    \n",
    "    return globalCTR1, globalCTR2"
   ]
  },
  {
   "cell_type": "code",
   "execution_count": 18,
   "id": "83bcd1d3",
   "metadata": {},
   "outputs": [],
   "source": [
    "# достанем из clickhouse данные по пользователям группы 1 и группы 2\n",
    "q = \"\"\"\n",
    "SELECT exp_group,\n",
    "    user_id,\n",
    "    sum(action = 'like') as likes,\n",
    "    sum(action = 'view') as views,\n",
    "    likes/views as ctr\n",
    "FROM {db}.feed_actions\n",
    "WHERE toDate(time) between '2024-03-01' and '2024-03-07' and exp_group in (1,2)\n",
    "GROUP BY exp_group, user_id\n",
    "\"\"\"\n",
    "df = pandahouse.read_clickhouse(q, connection=connection)"
   ]
  },
  {
   "cell_type": "code",
   "execution_count": 19,
   "id": "329a65c3",
   "metadata": {},
   "outputs": [
    {
     "data": {
      "text/html": [
       "<div>\n",
       "<style scoped>\n",
       "    .dataframe tbody tr th:only-of-type {\n",
       "        vertical-align: middle;\n",
       "    }\n",
       "\n",
       "    .dataframe tbody tr th {\n",
       "        vertical-align: top;\n",
       "    }\n",
       "\n",
       "    .dataframe thead th {\n",
       "        text-align: right;\n",
       "    }\n",
       "</style>\n",
       "<table border=\"1\" class=\"dataframe\">\n",
       "  <thead>\n",
       "    <tr style=\"text-align: right;\">\n",
       "      <th></th>\n",
       "      <th>exp_group</th>\n",
       "      <th>user_id</th>\n",
       "      <th>likes</th>\n",
       "      <th>views</th>\n",
       "      <th>ctr</th>\n",
       "    </tr>\n",
       "  </thead>\n",
       "  <tbody>\n",
       "    <tr>\n",
       "      <th>0</th>\n",
       "      <td>1</td>\n",
       "      <td>109963</td>\n",
       "      <td>3</td>\n",
       "      <td>15</td>\n",
       "      <td>0.20000</td>\n",
       "    </tr>\n",
       "    <tr>\n",
       "      <th>1</th>\n",
       "      <td>1</td>\n",
       "      <td>26117</td>\n",
       "      <td>32</td>\n",
       "      <td>141</td>\n",
       "      <td>0.22695</td>\n",
       "    </tr>\n",
       "  </tbody>\n",
       "</table>\n",
       "</div>"
      ],
      "text/plain": [
       "   exp_group  user_id  likes  views      ctr\n",
       "0          1   109963      3     15  0.20000\n",
       "1          1    26117     32    141  0.22695"
      ]
     },
     "execution_count": 19,
     "metadata": {},
     "output_type": "execute_result"
    }
   ],
   "source": [
    "df.head(2)"
   ]
  },
  {
   "cell_type": "code",
   "execution_count": 20,
   "id": "54f6e7b6",
   "metadata": {},
   "outputs": [],
   "source": [
    "# отделим лайки и просмотры для контрольной группы и тестовой\n",
    "likes1 = df[df.exp_group == 1].likes.to_numpy()\n",
    "views1 = df[df.exp_group == 1].views.to_numpy()\n",
    "likes2 = df[df.exp_group == 2].likes.to_numpy()\n",
    "views2 = df[df.exp_group == 2].views.to_numpy()"
   ]
  },
  {
   "cell_type": "code",
   "execution_count": 21,
   "id": "5573b44e",
   "metadata": {},
   "outputs": [],
   "source": [
    "# применим функцию и получим распределение глобальных CTR \n",
    "ctr1, ctr2 = bootstrap(likes1, views1, likes2, views2)"
   ]
  },
  {
   "cell_type": "code",
   "execution_count": 22,
   "id": "10ee79dd",
   "metadata": {},
   "outputs": [
    {
     "data": {
      "text/plain": [
       "<Axes: ylabel='Count'>"
      ]
     },
     "execution_count": 22,
     "metadata": {},
     "output_type": "execute_result"
    },
    {
     "data": {
      "image/png": "[encoded data removed]",
      "text/plain": [
       "<Figure size 800x500 with 1 Axes>"
      ]
     },
     "metadata": {},
     "output_type": "display_data"
    }
   ],
   "source": [
    "sns.histplot(ctr1)\n",
    "sns.histplot(ctr2)"
   ]
  },
  {
   "cell_type": "markdown",
   "id": "c240a15f",
   "metadata": {},
   "source": [
    "Как видно бутстрэп нам утверждает, что наш новый алгоритм(слева) значимо хуже(полностью разнесены распределения) чем наш старый алгоритм."
   ]
  },
  {
   "cell_type": "markdown",
   "id": "92cff85f",
   "metadata": {},
   "source": [
    "# Бакеты\n",
    "\n",
    "Сделаем тест Мана-уитни поверх бакетов"
   ]
  },
  {
   "cell_type": "code",
   "execution_count": 23,
   "id": "5c0c4b84",
   "metadata": {},
   "outputs": [],
   "source": [
    "\n",
    "q = \"\"\"\n",
    "SELECT exp_group, \n",
    "    xxHash64(user_id)%50 as bucket,\n",
    "    sum(action = 'like') as likes,\n",
    "    sum(action = 'view') as views,\n",
    "    likes/views as bucket_ctr\n",
    " FROM {db}.feed_actions\n",
    "    WHERE toDate(time) between '2024-03-01' and '2024-03-07' and exp_group in (1,2)\n",
    "GROUP BY exp_group, bucket\n",
    "\"\"\"\n",
    "df = pandahouse.read_clickhouse(q, connection=connection)\n"
   ]
  },
  {
   "cell_type": "code",
   "execution_count": 24,
   "id": "7502b01b",
   "metadata": {},
   "outputs": [
    {
     "data": {
      "text/html": [
       "<div>\n",
       "<style scoped>\n",
       "    .dataframe tbody tr th:only-of-type {\n",
       "        vertical-align: middle;\n",
       "    }\n",
       "\n",
       "    .dataframe tbody tr th {\n",
       "        vertical-align: top;\n",
       "    }\n",
       "\n",
       "    .dataframe thead th {\n",
       "        text-align: right;\n",
       "    }\n",
       "</style>\n",
       "<table border=\"1\" class=\"dataframe\">\n",
       "  <thead>\n",
       "    <tr style=\"text-align: right;\">\n",
       "      <th></th>\n",
       "      <th>exp_group</th>\n",
       "      <th>bucket</th>\n",
       "      <th>likes</th>\n",
       "      <th>views</th>\n",
       "      <th>bucket_ctr</th>\n",
       "    </tr>\n",
       "  </thead>\n",
       "  <tbody>\n",
       "    <tr>\n",
       "      <th>0</th>\n",
       "      <td>1</td>\n",
       "      <td>0</td>\n",
       "      <td>2709</td>\n",
       "      <td>13505</td>\n",
       "      <td>0.200592</td>\n",
       "    </tr>\n",
       "    <tr>\n",
       "      <th>1</th>\n",
       "      <td>2</td>\n",
       "      <td>0</td>\n",
       "      <td>2613</td>\n",
       "      <td>13297</td>\n",
       "      <td>0.196510</td>\n",
       "    </tr>\n",
       "  </tbody>\n",
       "</table>\n",
       "</div>"
      ],
      "text/plain": [
       "   exp_group  bucket  likes  views  bucket_ctr\n",
       "0          1       0   2709  13505    0.200592\n",
       "1          2       0   2613  13297    0.196510"
      ]
     },
     "execution_count": 24,
     "metadata": {},
     "output_type": "execute_result"
    }
   ],
   "source": [
    "df.head(2)"
   ]
  },
  {
   "cell_type": "code",
   "execution_count": 25,
   "id": "88d76e5f",
   "metadata": {},
   "outputs": [
    {
     "data": {
      "text/plain": [
       "MannwhitneyuResult(statistic=1997.0, pvalue=2.6576427804010095e-07)"
      ]
     },
     "execution_count": 25,
     "metadata": {},
     "output_type": "execute_result"
    }
   ],
   "source": [
    "# тест Манна-Уитни\n",
    "stats.mannwhitneyu(df[df.exp_group == 1].bucket_ctr,\n",
    "                df[df.exp_group == 2].bucket_ctr,\n",
    "                alternative = 'two-sided')"
   ]
  },
  {
   "cell_type": "markdown",
   "id": "9910d963",
   "metadata": {},
   "source": [
    "Тест мана-уитни тоже видит значимое отличие. pvalue сильно меньше 0,05 "
   ]
  },
  {
   "cell_type": "code",
   "execution_count": 26,
   "id": "5d663b22",
   "metadata": {},
   "outputs": [
    {
     "data": {
      "image/png": "[encoded data removed]",
      "text/plain": [
       "<Figure size 800x500 with 1 Axes>"
      ]
     },
     "metadata": {},
     "output_type": "display_data"
    }
   ],
   "source": [
    "# нарисуем бакетное распределение\n",
    "sns.set(rc={'figure.figsize':(8, 5)})\n",
    "groups = sns.histplot(data=df,\n",
    "                      x='bucket_ctr',\n",
    "                      hue='exp_group',\n",
    "                      palette = ['r', 'b'],\n",
    "                      alpha=0.5,\n",
    "                      kde=False)"
   ]
  },
  {
   "cell_type": "markdown",
   "id": "5849fe99",
   "metadata": {},
   "source": [
    "Видим что бакетное распределение тоже явно отличаеться. "
   ]
  },
  {
   "cell_type": "markdown",
   "id": "59c7be12",
   "metadata": {},
   "source": [
    "**Вывод:**\n",
    "\n",
    "**Финальное решение**\n",
    "\n",
    "\n",
    "С точки зрения общегруппового CTR наш новый алгорит хуже. Это доказываеться бутстрэпом, тестом мана-уитни поверх бакетов. Это даже можно пронаблюдать глазами. \n",
    "\n",
    "\n",
    "Но в новом алгоритме есть несколько интересных моментов. Появились пользователи у которых CTR существено повысился. Если мы получаем большую часть денег именно с этих пользователей, то наша целевая метрика которую нужно сравнивать это не среднее значение CTR а какой нибудь соответствующий квантиль распределения CTR. \n",
    "\n",
    "\n",
    "\n",
    "Совершено точно этот тест полезен, но на всех пользователей его не стоит раскатывать. "
   ]
  }
 ],
 "metadata": {
  "kernelspec": {
   "display_name": "Python 3 (ipykernel)",
   "language": "python",
   "name": "python3"
  },
  "language_info": {
   "codemirror_mode": {
    "name": "ipython",
    "version": 3
   },
   "file_extension": ".py",
   "mimetype": "text/x-python",
   "name": "python",
   "nbconvert_exporter": "python",
   "pygments_lexer": "ipython3",
   "version": "3.11.5"
  },
  "toc": {
   "base_numbering": 1,
   "nav_menu": {},
   "number_sections": false,
   "sideBar": true,
   "skip_h1_title": false,
   "title_cell": "Table of Contents",
   "title_sidebar": "Contents",
   "toc_cell": false,
   "toc_position": {
    "height": "calc(100% - 180px)",
    "left": "10px",
    "top": "150px",
    "width": "165px"
   },
   "toc_section_display": true,
   "toc_window_display": true
  }
 },
 "nbformat": 4,
 "nbformat_minor": 5
}
